{
 "cells": [
  {
   "cell_type": "markdown",
   "metadata": {},
   "source": [
    "# Exercises"
   ]
  },
  {
   "cell_type": "markdown",
   "metadata": {},
   "source": [
    "\n",
    "# 1. Create 5 list comprehensions to solve the following 5 problems:\n",
    "##     1. Iterate a list of names to return a list of the names starting with H"
   ]
  },
  {
   "cell_type": "code",
   "execution_count": 16,
   "metadata": {},
   "outputs": [
    {
     "data": {
      "text/plain": [
       "['Helle', 'Hans', 'Hugo']"
      ]
     },
     "execution_count": 16,
     "metadata": {},
     "output_type": "execute_result"
    }
   ],
   "source": [
    "names = [\"Helle\",\"Hans\",\"Anne\",\"Hugo\"]\n",
    "names\n",
    "nameList = [i for i in names if \"H\" == i[0]]\n",
    "nameList"
   ]
  },
  {
   "cell_type": "markdown",
   "metadata": {},
   "source": [
    "\n",
    "## B. In one line create a list of the numbers 1-100 to the power of 3"
   ]
  },
  {
   "cell_type": "code",
   "execution_count": 1,
   "metadata": {
    "scrolled": true
   },
   "outputs": [],
   "source": [
    "list = [value**3 for value in range (1, 101)]\n",
    "list"
   ]
  },
  {
   "cell_type": "markdown",
   "metadata": {},
   "source": [
    "## C. Iterate a list of names to create a list of tuples where the tuples first value is the length of the name and the second is the name"
   ]
  },
  {
   "cell_type": "code",
   "execution_count": 2,
   "metadata": {},
   "outputs": [
    {
     "name": "stdout",
     "output_type": "stream",
     "text": [
      "[(4, 'Hans'), (4, 'Hugo'), (4, 'Anne'), (5, 'Jimmy'), (5, 'bente')]\n"
     ]
    }
   ],
   "source": [
    "names = [\"Hans\", \"Hugo\", \"Anne\", \"Jimmy\", \"bente\"]\n",
    "namesTuples = [(len(name), name) for name in names]\n",
    "print(namesTuples)"
   ]
  },
  {
   "cell_type": "markdown",
   "metadata": {},
   "source": [
    "## D. Iterate over each character in a string and get only those that are nummeric"
   ]
  },
  {
   "cell_type": "code",
   "execution_count": 3,
   "metadata": {},
   "outputs": [
    {
     "name": "stdout",
     "output_type": "stream",
     "text": [
      "['1', '1', '5', '5', '0']\n"
     ]
    }
   ],
   "source": [
    "string = \"Th1s1sMyPa55W0rd\"\n",
    "numbers = [i for i in string if i.isdigit()]\n",
    "print(numbers)"
   ]
  },
  {
   "cell_type": "markdown",
   "metadata": {},
   "source": [
    "\n",
    "## E. Using only a list comprehension wrapped in set() get all possible combination from throwing 2 dice"
   ]
  },
  {
   "cell_type": "code",
   "execution_count": 4,
   "metadata": {},
   "outputs": [
    {
     "name": "stdout",
     "output_type": "stream",
     "text": [
      "{(1, 3), (6, 6), (5, 6), (2, 1), (6, 2), (1, 6), (5, 1), (2, 5), (1, 2), (3, 3), (5, 5), (4, 4), (6, 3), (1, 5), (3, 6), (2, 2), (4, 1), (1, 1), (6, 4), (3, 2), (2, 6), (5, 4), (4, 5), (5, 2), (1, 4), (2, 3), (4, 2), (6, 5), (3, 5), (5, 3), (4, 6), (6, 1), (3, 1), (4, 3), (3, 4), (2, 4)}\n"
     ]
    }
   ],
   "source": [
    "diceCombs = set([(d1, d2) for d1 in range(1,7) for d2 in range(1,7)])\n",
    "print(diceCombs)"
   ]
  },
  {
   "cell_type": "markdown",
   "metadata": {},
   "source": [
    "# 2. Create 2 dictionary comprehensions to solve the following:\n",
    "##  1. Iterate a list of names and create a dictionary where key is the name and value is the length of the name"
   ]
  },
  {
   "cell_type": "code",
   "execution_count": 6,
   "metadata": {},
   "outputs": [
    {
     "name": "stdout",
     "output_type": "stream",
     "text": [
      "{'Hans': 4, 'Hugo': 4, 'Anne': 4, 'Jimmy': 5, 'bente': 5}\n"
     ]
    }
   ],
   "source": [
    "names = [\"Hans\", \"Hugo\", \"Anne\", \"Jimmy\", \"bente\"]\n",
    "dictionary = {name:len(name) for name in names}\n",
    "print(dictionary)"
   ]
  },
  {
   "cell_type": "markdown",
   "metadata": {},
   "source": [
    "## B. Iterate a list of numbers and create a dictionary with (key, value) being (number, squareroot of number)"
   ]
  },
  {
   "cell_type": "code",
   "execution_count": 7,
   "metadata": {},
   "outputs": [
    {
     "name": "stdout",
     "output_type": "stream",
     "text": [
      "{1: 1, 9: 3, 81: 9, 100: 10, 256: 16}\n"
     ]
    }
   ],
   "source": [
    "import math\n",
    "numbers = [1, 9, 81, 100, 256]\n",
    "numbDict = {number:int(math.sqrt(number)) for number in numbers}\n",
    "print(numbDict)"
   ]
  },
  {
   "cell_type": "markdown",
   "metadata": {},
   "source": [
    "# 3. Progammatically using loops create a small program to produce a dictionary with all the 2 dice throw combinations as keys and their likelyhood in percent as values"
   ]
  },
  {
   "cell_type": "code",
   "execution_count": 9,
   "metadata": {},
   "outputs": [
    {
     "name": "stdout",
     "output_type": "stream",
     "text": [
      "{(1, 3): 8.333333333333332, (6, 6): 2.7777777777777777, (5, 6): 5.555555555555555, (2, 1): 5.555555555555555, (6, 2): 13.88888888888889, (1, 6): 16.666666666666664, (5, 1): 13.88888888888889, (2, 5): 16.666666666666664, (1, 2): 5.555555555555555, (3, 3): 13.88888888888889, (5, 5): 8.333333333333332, (4, 4): 13.88888888888889, (6, 3): 11.11111111111111, (1, 5): 13.88888888888889, (3, 6): 11.11111111111111, (2, 2): 8.333333333333332, (4, 1): 11.11111111111111, (1, 1): 2.7777777777777777, (6, 4): 8.333333333333332, (3, 2): 11.11111111111111, (2, 6): 13.88888888888889, (5, 4): 11.11111111111111, (4, 5): 11.11111111111111, (5, 2): 16.666666666666664, (1, 4): 11.11111111111111, (2, 3): 11.11111111111111, (4, 2): 13.88888888888889, (6, 5): 5.555555555555555, (3, 5): 13.88888888888889, (5, 3): 13.88888888888889, (4, 6): 8.333333333333332, (6, 1): 16.666666666666664, (3, 1): 8.333333333333332, (4, 3): 16.666666666666664, (3, 4): 16.666666666666664, (2, 4): 13.88888888888889}\n"
     ]
    }
   ],
   "source": [
    "comb = set([(d1, d2) for d1 in range(1,7) for d2 in range(1,7)])\n",
    "chances = {2:1,3:2,4:3,5:4,6:5,7:6,8:5,9:4,10:3,11:2,12:1}\n",
    "chance = {}\n",
    "for x,y in comb:\n",
    "    chance[x,y] = (chances[x+y]/36)*100\n",
    "print(chance)"
   ]
  }
 ],
 "metadata": {
  "kernelspec": {
   "display_name": "Python 3",
   "language": "python",
   "name": "python3"
  },
  "language_info": {
   "codemirror_mode": {
    "name": "ipython",
    "version": 3
   },
   "file_extension": ".py",
   "mimetype": "text/x-python",
   "name": "python",
   "nbconvert_exporter": "python",
   "pygments_lexer": "ipython3",
   "version": "3.7.4"
  }
 },
 "nbformat": 4,
 "nbformat_minor": 2
}
