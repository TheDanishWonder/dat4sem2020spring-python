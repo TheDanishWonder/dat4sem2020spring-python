{
 "cells": [
  {
   "cell_type": "markdown",
   "metadata": {},
   "source": [
    "# Class Exercises"
   ]
  },
  {
   "cell_type": "code",
   "execution_count": 1,
   "metadata": {},
   "outputs": [
    {
     "name": "stdout",
     "output_type": "stream",
     "text": [
      "Hanne\n",
      "Mads\n",
      "Per\n",
      "Hjalte\n"
     ]
    }
   ],
   "source": [
    "names = ['Hanne', 'Mads', 'Per', 'Hjalte']\n",
    "def rP(names, i=0):\n",
    "    if(i < len(names)):\n",
    "        print(names[i]) \n",
    "        i += 1\n",
    "        rP(names, i=i)\n",
    "rP(names, i=0)\n",
    " \n"
   ]
  },
  {
   "cell_type": "markdown",
   "metadata": {},
   "source": [
    "## ceate a function in python, that can read all names of files in a folder, when given the full path to the folder"
   ]
  },
  {
   "cell_type": "code",
   "execution_count": 48,
   "metadata": {},
   "outputs": [
    {
     "name": "stdout",
     "output_type": "stream",
     "text": [
      "None\n"
     ]
    }
   ],
   "source": [
    "def get_file_list(folder_path):\n",
    "    for (path, dirs, files) in os.walk(folder_path):\n",
    "        for file in files:\n",
    "            if(file.endswith('py')):\n",
    "                print(file)\n",
    "print(get_file_list('Documents/4. Semester/Python/4sem2020spring-python/my_modules'))"
   ]
  }
 ],
 "metadata": {
  "kernelspec": {
   "display_name": "Python 3",
   "language": "python",
   "name": "python3"
  },
  "language_info": {
   "codemirror_mode": {
    "name": "ipython",
    "version": 3
   },
   "file_extension": ".py",
   "mimetype": "text/x-python",
   "name": "python",
   "nbconvert_exporter": "python",
   "pygments_lexer": "ipython3",
   "version": "3.7.4"
  }
 },
 "nbformat": 4,
 "nbformat_minor": 2
}
