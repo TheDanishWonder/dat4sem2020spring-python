{
 "cells": [
  {
   "cell_type": "code",
   "execution_count": 17,
   "metadata": {},
   "outputs": [
    {
     "name": "stdout",
     "output_type": "stream",
     "text": [
      "['Peter Hansen', 'Peter Beier', 'Peter Jensen', 'Peter Kold', 'Peter Harold']\n"
     ]
    }
   ],
   "source": [
    "import re\n",
    "p = re.compile(r'Peter \\w+')\n",
    "txt = \"Peter Hansen was meeting up with Jacob Fransen for a quick lunch, but first he had to go by Peter Beier to pick up some chokolate for his wife. Meanwhile Pastor Peter Jensen was going to church to give his sermon for the same 3 people in his parish. Those were Peter Kold and Henrik Halberg plus a third person who had recently moved here from Norway called Peter Harold\"\n",
    "m = p.findall(txt)\n",
    "print(m)"
   ]
  },
  {
   "cell_type": "code",
   "execution_count": 3,
   "metadata": {},
   "outputs": [
    {
     "name": "stdout",
     "output_type": "stream",
     "text": [
      "39\n"
     ]
    },
    {
     "name": "stderr",
     "output_type": "stream",
     "text": [
      "\r",
      "  0%|          | 0/39 [00:00<?, ?it/s]"
     ]
    },
    {
     "name": "stdout",
     "output_type": "stream",
     "text": [
      "PAGE:1\n",
      "['2020-planen', '24 fortællinger om Händels Messias', \"24 lysende stjerner fra 10'erne\", '24 musikudtryk ifølge P2', '2GOBOG', '2% tilbage', '365 fra P8 JAZZ - Maraton', '365 på P6 BEAT', '365 på P7 MIX', '45 omdrejninger', '4. division', \"90'ernes helte: Tyggegummipoppen\", '90 i timen', 'Absolute Absolute Music', 'Adam Holm i Syrien', 'Afslag på et kys']\n"
     ]
    },
    {
     "name": "stderr",
     "output_type": "stream",
     "text": [
      "\r",
      "  3%|▎         | 1/39 [00:00<00:18,  2.03it/s]"
     ]
    },
    {
     "name": "stdout",
     "output_type": "stream",
     "text": [
      "PAGE:2\n",
      "['2020-planen', '24 fortællinger om Händels Messias', \"24 lysende stjerner fra 10'erne\", '24 musikudtryk ifølge P2', '2GOBOG', '2% tilbage', '365 fra P8 JAZZ - Maraton', '365 på P6 BEAT', '365 på P7 MIX', '45 omdrejninger', '4. division', \"90'ernes helte: Tyggegummipoppen\", '90 i timen', 'Absolute Absolute Music', 'Adam Holm i Syrien', 'Afslag på et kys']\n"
     ]
    },
    {
     "name": "stderr",
     "output_type": "stream",
     "text": [
      "\r",
      "  5%|▌         | 2/39 [00:00<00:17,  2.12it/s]"
     ]
    },
    {
     "name": "stdout",
     "output_type": "stream",
     "text": [
      "PAGE:3\n",
      "['2020-planen', '24 fortællinger om Händels Messias', \"24 lysende stjerner fra 10'erne\", '24 musikudtryk ifølge P2', '2GOBOG', '2% tilbage', '365 fra P8 JAZZ - Maraton', '365 på P6 BEAT', '365 på P7 MIX', '45 omdrejninger', '4. division', \"90'ernes helte: Tyggegummipoppen\", '90 i timen', 'Absolute Absolute Music', 'Adam Holm i Syrien', 'Afslag på et kys']\n"
     ]
    },
    {
     "name": "stderr",
     "output_type": "stream",
     "text": [
      "\r",
      "  8%|▊         | 3/39 [00:01<00:17,  2.04it/s]"
     ]
    },
    {
     "name": "stdout",
     "output_type": "stream",
     "text": [
      "PAGE:4\n",
      "['2020-planen', '24 fortællinger om Händels Messias', \"24 lysende stjerner fra 10'erne\", '24 musikudtryk ifølge P2', '2GOBOG', '2% tilbage', '365 fra P8 JAZZ - Maraton', '365 på P6 BEAT', '365 på P7 MIX', '45 omdrejninger', '4. division', \"90'ernes helte: Tyggegummipoppen\", '90 i timen', 'Absolute Absolute Music', 'Adam Holm i Syrien', 'Afslag på et kys']\n"
     ]
    },
    {
     "name": "stderr",
     "output_type": "stream",
     "text": [
      "\r",
      " 10%|█         | 4/39 [00:01<00:16,  2.17it/s]"
     ]
    },
    {
     "name": "stdout",
     "output_type": "stream",
     "text": [
      "PAGE:5\n",
      "['2020-planen', '24 fortællinger om Händels Messias', \"24 lysende stjerner fra 10'erne\", '24 musikudtryk ifølge P2', '2GOBOG', '2% tilbage', '365 fra P8 JAZZ - Maraton', '365 på P6 BEAT', '365 på P7 MIX', '45 omdrejninger', '4. division', \"90'ernes helte: Tyggegummipoppen\", '90 i timen', 'Absolute Absolute Music', 'Adam Holm i Syrien', 'Afslag på et kys']\n"
     ]
    },
    {
     "name": "stderr",
     "output_type": "stream",
     "text": [
      "\r",
      " 13%|█▎        | 5/39 [00:02<00:15,  2.19it/s]"
     ]
    },
    {
     "name": "stdout",
     "output_type": "stream",
     "text": [
      "PAGE:6\n",
      "['2020-planen', '24 fortællinger om Händels Messias', \"24 lysende stjerner fra 10'erne\", '24 musikudtryk ifølge P2', '2GOBOG', '2% tilbage', '365 fra P8 JAZZ - Maraton', '365 på P6 BEAT', '365 på P7 MIX', '45 omdrejninger', '4. division', \"90'ernes helte: Tyggegummipoppen\", '90 i timen', 'Absolute Absolute Music', 'Adam Holm i Syrien', 'Afslag på et kys']\n"
     ]
    },
    {
     "name": "stderr",
     "output_type": "stream",
     "text": [
      "\r",
      " 15%|█▌        | 6/39 [00:02<00:14,  2.31it/s]"
     ]
    },
    {
     "name": "stdout",
     "output_type": "stream",
     "text": [
      "PAGE:7\n",
      "['2020-planen', '24 fortællinger om Händels Messias', \"24 lysende stjerner fra 10'erne\", '24 musikudtryk ifølge P2', '2GOBOG', '2% tilbage', '365 fra P8 JAZZ - Maraton', '365 på P6 BEAT', '365 på P7 MIX', '45 omdrejninger', '4. division', \"90'ernes helte: Tyggegummipoppen\", '90 i timen', 'Absolute Absolute Music', 'Adam Holm i Syrien', 'Afslag på et kys']\n"
     ]
    },
    {
     "name": "stderr",
     "output_type": "stream",
     "text": [
      "\r",
      " 18%|█▊        | 7/39 [00:03<00:14,  2.16it/s]"
     ]
    },
    {
     "name": "stdout",
     "output_type": "stream",
     "text": [
      "PAGE:8\n",
      "['2020-planen', '24 fortællinger om Händels Messias', \"24 lysende stjerner fra 10'erne\", '24 musikudtryk ifølge P2', '2GOBOG', '2% tilbage', '365 fra P8 JAZZ - Maraton', '365 på P6 BEAT', '365 på P7 MIX', '45 omdrejninger', '4. division', \"90'ernes helte: Tyggegummipoppen\", '90 i timen', 'Absolute Absolute Music', 'Adam Holm i Syrien', 'Afslag på et kys']\n"
     ]
    },
    {
     "name": "stderr",
     "output_type": "stream",
     "text": [
      "\r",
      " 21%|██        | 8/39 [00:03<00:14,  2.20it/s]"
     ]
    },
    {
     "name": "stdout",
     "output_type": "stream",
     "text": [
      "PAGE:9\n",
      "['2020-planen', '24 fortællinger om Händels Messias', \"24 lysende stjerner fra 10'erne\", '24 musikudtryk ifølge P2', '2GOBOG', '2% tilbage', '365 fra P8 JAZZ - Maraton', '365 på P6 BEAT', '365 på P7 MIX', '45 omdrejninger', '4. division', \"90'ernes helte: Tyggegummipoppen\", '90 i timen', 'Absolute Absolute Music', 'Adam Holm i Syrien', 'Afslag på et kys']\n"
     ]
    },
    {
     "name": "stderr",
     "output_type": "stream",
     "text": [
      "\r",
      " 23%|██▎       | 9/39 [00:04<00:13,  2.20it/s]"
     ]
    },
    {
     "name": "stdout",
     "output_type": "stream",
     "text": [
      "PAGE:10\n",
      "['2020-planen', '24 fortællinger om Händels Messias', \"24 lysende stjerner fra 10'erne\", '24 musikudtryk ifølge P2', '2GOBOG', '2% tilbage', '365 fra P8 JAZZ - Maraton', '365 på P6 BEAT', '365 på P7 MIX', '45 omdrejninger', '4. division', \"90'ernes helte: Tyggegummipoppen\", '90 i timen', 'Absolute Absolute Music', 'Adam Holm i Syrien', 'Afslag på et kys']\n"
     ]
    },
    {
     "name": "stderr",
     "output_type": "stream",
     "text": [
      "\r",
      " 26%|██▌       | 10/39 [00:04<00:13,  2.11it/s]"
     ]
    },
    {
     "name": "stdout",
     "output_type": "stream",
     "text": [
      "PAGE:11\n",
      "['2020-planen', '24 fortællinger om Händels Messias', \"24 lysende stjerner fra 10'erne\", '24 musikudtryk ifølge P2', '2GOBOG', '2% tilbage', '365 fra P8 JAZZ - Maraton', '365 på P6 BEAT', '365 på P7 MIX', '45 omdrejninger', '4. division', \"90'ernes helte: Tyggegummipoppen\", '90 i timen', 'Absolute Absolute Music', 'Adam Holm i Syrien', 'Afslag på et kys']\n"
     ]
    },
    {
     "name": "stderr",
     "output_type": "stream",
     "text": [
      "\r",
      " 28%|██▊       | 11/39 [00:04<00:12,  2.30it/s]"
     ]
    },
    {
     "name": "stdout",
     "output_type": "stream",
     "text": [
      "PAGE:12\n",
      "['2020-planen', '24 fortællinger om Händels Messias', \"24 lysende stjerner fra 10'erne\", '24 musikudtryk ifølge P2', '2GOBOG', '2% tilbage', '365 fra P8 JAZZ - Maraton', '365 på P6 BEAT', '365 på P7 MIX', '45 omdrejninger', '4. division', \"90'ernes helte: Tyggegummipoppen\", '90 i timen', 'Absolute Absolute Music', 'Adam Holm i Syrien', 'Afslag på et kys']\n"
     ]
    },
    {
     "name": "stderr",
     "output_type": "stream",
     "text": [
      "\r",
      " 31%|███       | 12/39 [00:05<00:11,  2.38it/s]"
     ]
    },
    {
     "name": "stdout",
     "output_type": "stream",
     "text": [
      "PAGE:13\n",
      "['2020-planen', '24 fortællinger om Händels Messias', \"24 lysende stjerner fra 10'erne\", '24 musikudtryk ifølge P2', '2GOBOG', '2% tilbage', '365 fra P8 JAZZ - Maraton', '365 på P6 BEAT', '365 på P7 MIX', '45 omdrejninger', '4. division', \"90'ernes helte: Tyggegummipoppen\", '90 i timen', 'Absolute Absolute Music', 'Adam Holm i Syrien', 'Afslag på et kys']\n"
     ]
    },
    {
     "name": "stderr",
     "output_type": "stream",
     "text": [
      "\r",
      " 33%|███▎      | 13/39 [00:06<00:13,  1.98it/s]"
     ]
    },
    {
     "name": "stdout",
     "output_type": "stream",
     "text": [
      "PAGE:14\n",
      "['2020-planen', '24 fortællinger om Händels Messias', \"24 lysende stjerner fra 10'erne\", '24 musikudtryk ifølge P2', '2GOBOG', '2% tilbage', '365 fra P8 JAZZ - Maraton', '365 på P6 BEAT', '365 på P7 MIX', '45 omdrejninger', '4. division', \"90'ernes helte: Tyggegummipoppen\", '90 i timen', 'Absolute Absolute Music', 'Adam Holm i Syrien', 'Afslag på et kys']\n"
     ]
    },
    {
     "name": "stderr",
     "output_type": "stream",
     "text": [
      "\r",
      " 36%|███▌      | 14/39 [00:06<00:12,  1.93it/s]"
     ]
    },
    {
     "name": "stdout",
     "output_type": "stream",
     "text": [
      "PAGE:15\n",
      "['2020-planen', '24 fortællinger om Händels Messias', \"24 lysende stjerner fra 10'erne\", '24 musikudtryk ifølge P2', '2GOBOG', '2% tilbage', '365 fra P8 JAZZ - Maraton', '365 på P6 BEAT', '365 på P7 MIX', '45 omdrejninger', '4. division', \"90'ernes helte: Tyggegummipoppen\", '90 i timen', 'Absolute Absolute Music', 'Adam Holm i Syrien', 'Afslag på et kys']\n"
     ]
    },
    {
     "name": "stderr",
     "output_type": "stream",
     "text": [
      "\r",
      " 38%|███▊      | 15/39 [00:07<00:13,  1.77it/s]"
     ]
    },
    {
     "name": "stdout",
     "output_type": "stream",
     "text": [
      "PAGE:16\n",
      "['2020-planen', '24 fortællinger om Händels Messias', \"24 lysende stjerner fra 10'erne\", '24 musikudtryk ifølge P2', '2GOBOG', '2% tilbage', '365 fra P8 JAZZ - Maraton', '365 på P6 BEAT', '365 på P7 MIX', '45 omdrejninger', '4. division', \"90'ernes helte: Tyggegummipoppen\", '90 i timen', 'Absolute Absolute Music', 'Adam Holm i Syrien', 'Afslag på et kys']\n"
     ]
    },
    {
     "name": "stderr",
     "output_type": "stream",
     "text": [
      "\r",
      " 41%|████      | 16/39 [00:07<00:11,  1.94it/s]"
     ]
    },
    {
     "name": "stdout",
     "output_type": "stream",
     "text": [
      "PAGE:17\n",
      "['2020-planen', '24 fortællinger om Händels Messias', \"24 lysende stjerner fra 10'erne\", '24 musikudtryk ifølge P2', '2GOBOG', '2% tilbage', '365 fra P8 JAZZ - Maraton', '365 på P6 BEAT', '365 på P7 MIX', '45 omdrejninger', '4. division', \"90'ernes helte: Tyggegummipoppen\", '90 i timen', 'Absolute Absolute Music', 'Adam Holm i Syrien', 'Afslag på et kys']\n"
     ]
    },
    {
     "name": "stderr",
     "output_type": "stream",
     "text": [
      "\r",
      " 44%|████▎     | 17/39 [00:08<00:11,  1.84it/s]"
     ]
    },
    {
     "name": "stdout",
     "output_type": "stream",
     "text": [
      "PAGE:18\n",
      "['2020-planen', '24 fortællinger om Händels Messias', \"24 lysende stjerner fra 10'erne\", '24 musikudtryk ifølge P2', '2GOBOG', '2% tilbage', '365 fra P8 JAZZ - Maraton', '365 på P6 BEAT', '365 på P7 MIX', '45 omdrejninger', '4. division', \"90'ernes helte: Tyggegummipoppen\", '90 i timen', 'Absolute Absolute Music', 'Adam Holm i Syrien', 'Afslag på et kys']\n"
     ]
    },
    {
     "name": "stderr",
     "output_type": "stream",
     "text": [
      "\r",
      " 46%|████▌     | 18/39 [00:08<00:10,  2.03it/s]"
     ]
    },
    {
     "name": "stdout",
     "output_type": "stream",
     "text": [
      "PAGE:19\n",
      "['2020-planen', '24 fortællinger om Händels Messias', \"24 lysende stjerner fra 10'erne\", '24 musikudtryk ifølge P2', '2GOBOG', '2% tilbage', '365 fra P8 JAZZ - Maraton', '365 på P6 BEAT', '365 på P7 MIX', '45 omdrejninger', '4. division', \"90'ernes helte: Tyggegummipoppen\", '90 i timen', 'Absolute Absolute Music', 'Adam Holm i Syrien', 'Afslag på et kys']\n"
     ]
    },
    {
     "name": "stderr",
     "output_type": "stream",
     "text": [
      "\r",
      " 49%|████▊     | 19/39 [00:09<00:10,  1.94it/s]"
     ]
    },
    {
     "name": "stdout",
     "output_type": "stream",
     "text": [
      "PAGE:20\n",
      "['2020-planen', '24 fortællinger om Händels Messias', \"24 lysende stjerner fra 10'erne\", '24 musikudtryk ifølge P2', '2GOBOG', '2% tilbage', '365 fra P8 JAZZ - Maraton', '365 på P6 BEAT', '365 på P7 MIX', '45 omdrejninger', '4. division', \"90'ernes helte: Tyggegummipoppen\", '90 i timen', 'Absolute Absolute Music', 'Adam Holm i Syrien', 'Afslag på et kys']\n"
     ]
    },
    {
     "name": "stderr",
     "output_type": "stream",
     "text": [
      "\r",
      " 51%|█████▏    | 20/39 [00:09<00:08,  2.15it/s]"
     ]
    },
    {
     "name": "stdout",
     "output_type": "stream",
     "text": [
      "PAGE:21\n",
      "['2020-planen', '24 fortællinger om Händels Messias', \"24 lysende stjerner fra 10'erne\", '24 musikudtryk ifølge P2', '2GOBOG', '2% tilbage', '365 fra P8 JAZZ - Maraton', '365 på P6 BEAT', '365 på P7 MIX', '45 omdrejninger', '4. division', \"90'ernes helte: Tyggegummipoppen\", '90 i timen', 'Absolute Absolute Music', 'Adam Holm i Syrien', 'Afslag på et kys']\n"
     ]
    },
    {
     "name": "stderr",
     "output_type": "stream",
     "text": [
      "\r",
      " 54%|█████▍    | 21/39 [00:09<00:07,  2.42it/s]"
     ]
    },
    {
     "name": "stdout",
     "output_type": "stream",
     "text": [
      "PAGE:22\n",
      "['2020-planen', '24 fortællinger om Händels Messias', \"24 lysende stjerner fra 10'erne\", '24 musikudtryk ifølge P2', '2GOBOG', '2% tilbage', '365 fra P8 JAZZ - Maraton', '365 på P6 BEAT', '365 på P7 MIX', '45 omdrejninger', '4. division', \"90'ernes helte: Tyggegummipoppen\", '90 i timen', 'Absolute Absolute Music', 'Adam Holm i Syrien', 'Afslag på et kys']\n"
     ]
    },
    {
     "name": "stderr",
     "output_type": "stream",
     "text": [
      "\r",
      " 56%|█████▋    | 22/39 [00:10<00:06,  2.58it/s]"
     ]
    },
    {
     "name": "stdout",
     "output_type": "stream",
     "text": [
      "PAGE:23\n",
      "['2020-planen', '24 fortællinger om Händels Messias', \"24 lysende stjerner fra 10'erne\", '24 musikudtryk ifølge P2', '2GOBOG', '2% tilbage', '365 fra P8 JAZZ - Maraton', '365 på P6 BEAT', '365 på P7 MIX', '45 omdrejninger', '4. division', \"90'ernes helte: Tyggegummipoppen\", '90 i timen', 'Absolute Absolute Music', 'Adam Holm i Syrien', 'Afslag på et kys']\n"
     ]
    },
    {
     "name": "stderr",
     "output_type": "stream",
     "text": [
      "\r",
      " 59%|█████▉    | 23/39 [00:10<00:06,  2.31it/s]"
     ]
    },
    {
     "name": "stdout",
     "output_type": "stream",
     "text": [
      "PAGE:24\n",
      "['2020-planen', '24 fortællinger om Händels Messias', \"24 lysende stjerner fra 10'erne\", '24 musikudtryk ifølge P2', '2GOBOG', '2% tilbage', '365 fra P8 JAZZ - Maraton', '365 på P6 BEAT', '365 på P7 MIX', '45 omdrejninger', '4. division', \"90'ernes helte: Tyggegummipoppen\", '90 i timen', 'Absolute Absolute Music', 'Adam Holm i Syrien', 'Afslag på et kys']\n"
     ]
    },
    {
     "name": "stderr",
     "output_type": "stream",
     "text": [
      "\r",
      " 62%|██████▏   | 24/39 [00:11<00:05,  2.50it/s]"
     ]
    },
    {
     "name": "stdout",
     "output_type": "stream",
     "text": [
      "PAGE:25\n",
      "['2020-planen', '24 fortællinger om Händels Messias', \"24 lysende stjerner fra 10'erne\", '24 musikudtryk ifølge P2', '2GOBOG', '2% tilbage', '365 fra P8 JAZZ - Maraton', '365 på P6 BEAT', '365 på P7 MIX', '45 omdrejninger', '4. division', \"90'ernes helte: Tyggegummipoppen\", '90 i timen', 'Absolute Absolute Music', 'Adam Holm i Syrien', 'Afslag på et kys']\n"
     ]
    },
    {
     "name": "stderr",
     "output_type": "stream",
     "text": [
      "\r",
      " 64%|██████▍   | 25/39 [00:11<00:05,  2.60it/s]"
     ]
    },
    {
     "name": "stdout",
     "output_type": "stream",
     "text": [
      "PAGE:26\n",
      "['2020-planen', '24 fortællinger om Händels Messias', \"24 lysende stjerner fra 10'erne\", '24 musikudtryk ifølge P2', '2GOBOG', '2% tilbage', '365 fra P8 JAZZ - Maraton', '365 på P6 BEAT', '365 på P7 MIX', '45 omdrejninger', '4. division', \"90'ernes helte: Tyggegummipoppen\", '90 i timen', 'Absolute Absolute Music', 'Adam Holm i Syrien', 'Afslag på et kys']\n"
     ]
    },
    {
     "name": "stderr",
     "output_type": "stream",
     "text": [
      "\r",
      " 67%|██████▋   | 26/39 [00:11<00:05,  2.50it/s]"
     ]
    },
    {
     "name": "stdout",
     "output_type": "stream",
     "text": [
      "PAGE:27\n",
      "['2020-planen', '24 fortællinger om Händels Messias', \"24 lysende stjerner fra 10'erne\", '24 musikudtryk ifølge P2', '2GOBOG', '2% tilbage', '365 fra P8 JAZZ - Maraton', '365 på P6 BEAT', '365 på P7 MIX', '45 omdrejninger', '4. division', \"90'ernes helte: Tyggegummipoppen\", '90 i timen', 'Absolute Absolute Music', 'Adam Holm i Syrien', 'Afslag på et kys']\n"
     ]
    },
    {
     "name": "stderr",
     "output_type": "stream",
     "text": [
      "\r",
      " 69%|██████▉   | 27/39 [00:12<00:04,  2.67it/s]"
     ]
    },
    {
     "name": "stdout",
     "output_type": "stream",
     "text": [
      "PAGE:28\n",
      "['2020-planen', '24 fortællinger om Händels Messias', \"24 lysende stjerner fra 10'erne\", '24 musikudtryk ifølge P2', '2GOBOG', '2% tilbage', '365 fra P8 JAZZ - Maraton', '365 på P6 BEAT', '365 på P7 MIX', '45 omdrejninger', '4. division', \"90'ernes helte: Tyggegummipoppen\", '90 i timen', 'Absolute Absolute Music', 'Adam Holm i Syrien', 'Afslag på et kys']\n"
     ]
    },
    {
     "name": "stderr",
     "output_type": "stream",
     "text": [
      "\r",
      " 72%|███████▏  | 28/39 [00:12<00:04,  2.37it/s]"
     ]
    },
    {
     "name": "stdout",
     "output_type": "stream",
     "text": [
      "PAGE:29\n",
      "['2020-planen', '24 fortællinger om Händels Messias', \"24 lysende stjerner fra 10'erne\", '24 musikudtryk ifølge P2', '2GOBOG', '2% tilbage', '365 fra P8 JAZZ - Maraton', '365 på P6 BEAT', '365 på P7 MIX', '45 omdrejninger', '4. division', \"90'ernes helte: Tyggegummipoppen\", '90 i timen', 'Absolute Absolute Music', 'Adam Holm i Syrien', 'Afslag på et kys']\n"
     ]
    },
    {
     "name": "stderr",
     "output_type": "stream",
     "text": [
      "\r",
      " 74%|███████▍  | 29/39 [00:13<00:04,  2.27it/s]"
     ]
    },
    {
     "name": "stdout",
     "output_type": "stream",
     "text": [
      "PAGE:30\n",
      "['2020-planen', '24 fortællinger om Händels Messias', \"24 lysende stjerner fra 10'erne\", '24 musikudtryk ifølge P2', '2GOBOG', '2% tilbage', '365 fra P8 JAZZ - Maraton', '365 på P6 BEAT', '365 på P7 MIX', '45 omdrejninger', '4. division', \"90'ernes helte: Tyggegummipoppen\", '90 i timen', 'Absolute Absolute Music', 'Adam Holm i Syrien', 'Afslag på et kys']\n"
     ]
    },
    {
     "name": "stderr",
     "output_type": "stream",
     "text": [
      "\r",
      " 77%|███████▋  | 30/39 [00:13<00:04,  2.23it/s]"
     ]
    },
    {
     "name": "stdout",
     "output_type": "stream",
     "text": [
      "PAGE:31\n",
      "['2020-planen', '24 fortællinger om Händels Messias', \"24 lysende stjerner fra 10'erne\", '24 musikudtryk ifølge P2', '2GOBOG', '2% tilbage', '365 fra P8 JAZZ - Maraton', '365 på P6 BEAT', '365 på P7 MIX', '45 omdrejninger', '4. division', \"90'ernes helte: Tyggegummipoppen\", '90 i timen', 'Absolute Absolute Music', 'Adam Holm i Syrien', 'Afslag på et kys']\n"
     ]
    },
    {
     "name": "stderr",
     "output_type": "stream",
     "text": [
      "\r",
      " 79%|███████▉  | 31/39 [00:14<00:03,  2.14it/s]"
     ]
    },
    {
     "name": "stdout",
     "output_type": "stream",
     "text": [
      "PAGE:32\n",
      "['2020-planen', '24 fortællinger om Händels Messias', \"24 lysende stjerner fra 10'erne\", '24 musikudtryk ifølge P2', '2GOBOG', '2% tilbage', '365 fra P8 JAZZ - Maraton', '365 på P6 BEAT', '365 på P7 MIX', '45 omdrejninger', '4. division', \"90'ernes helte: Tyggegummipoppen\", '90 i timen', 'Absolute Absolute Music', 'Adam Holm i Syrien', 'Afslag på et kys']\n"
     ]
    },
    {
     "name": "stderr",
     "output_type": "stream",
     "text": [
      "\r",
      " 82%|████████▏ | 32/39 [00:14<00:03,  2.21it/s]"
     ]
    },
    {
     "name": "stdout",
     "output_type": "stream",
     "text": [
      "PAGE:33\n",
      "['2020-planen', '24 fortællinger om Händels Messias', \"24 lysende stjerner fra 10'erne\", '24 musikudtryk ifølge P2', '2GOBOG', '2% tilbage', '365 fra P8 JAZZ - Maraton', '365 på P6 BEAT', '365 på P7 MIX', '45 omdrejninger', '4. division', \"90'ernes helte: Tyggegummipoppen\", '90 i timen', 'Absolute Absolute Music', 'Adam Holm i Syrien', 'Afslag på et kys']\n"
     ]
    },
    {
     "name": "stderr",
     "output_type": "stream",
     "text": [
      "\r",
      " 85%|████████▍ | 33/39 [00:14<00:02,  2.32it/s]"
     ]
    },
    {
     "name": "stdout",
     "output_type": "stream",
     "text": [
      "PAGE:34\n",
      "['2020-planen', '24 fortællinger om Händels Messias', \"24 lysende stjerner fra 10'erne\", '24 musikudtryk ifølge P2', '2GOBOG', '2% tilbage', '365 fra P8 JAZZ - Maraton', '365 på P6 BEAT', '365 på P7 MIX', '45 omdrejninger', '4. division', \"90'ernes helte: Tyggegummipoppen\", '90 i timen', 'Absolute Absolute Music', 'Adam Holm i Syrien', 'Afslag på et kys']\n"
     ]
    },
    {
     "name": "stderr",
     "output_type": "stream",
     "text": [
      "\r",
      " 87%|████████▋ | 34/39 [00:15<00:02,  2.33it/s]"
     ]
    },
    {
     "name": "stdout",
     "output_type": "stream",
     "text": [
      "PAGE:35\n",
      "['2020-planen', '24 fortællinger om Händels Messias', \"24 lysende stjerner fra 10'erne\", '24 musikudtryk ifølge P2', '2GOBOG', '2% tilbage', '365 fra P8 JAZZ - Maraton', '365 på P6 BEAT', '365 på P7 MIX', '45 omdrejninger', '4. division', \"90'ernes helte: Tyggegummipoppen\", '90 i timen', 'Absolute Absolute Music', 'Adam Holm i Syrien', 'Afslag på et kys']\n"
     ]
    },
    {
     "name": "stderr",
     "output_type": "stream",
     "text": [
      "\r",
      " 90%|████████▉ | 35/39 [00:15<00:01,  2.32it/s]"
     ]
    },
    {
     "name": "stdout",
     "output_type": "stream",
     "text": [
      "PAGE:36\n",
      "['2020-planen', '24 fortællinger om Händels Messias', \"24 lysende stjerner fra 10'erne\", '24 musikudtryk ifølge P2', '2GOBOG', '2% tilbage', '365 fra P8 JAZZ - Maraton', '365 på P6 BEAT', '365 på P7 MIX', '45 omdrejninger', '4. division', \"90'ernes helte: Tyggegummipoppen\", '90 i timen', 'Absolute Absolute Music', 'Adam Holm i Syrien', 'Afslag på et kys']\n"
     ]
    },
    {
     "name": "stderr",
     "output_type": "stream",
     "text": [
      "\r",
      " 92%|█████████▏| 36/39 [00:16<00:01,  2.46it/s]"
     ]
    },
    {
     "name": "stdout",
     "output_type": "stream",
     "text": [
      "PAGE:37\n",
      "['2020-planen', '24 fortællinger om Händels Messias', \"24 lysende stjerner fra 10'erne\", '24 musikudtryk ifølge P2', '2GOBOG', '2% tilbage', '365 fra P8 JAZZ - Maraton', '365 på P6 BEAT', '365 på P7 MIX', '45 omdrejninger', '4. division', \"90'ernes helte: Tyggegummipoppen\", '90 i timen', 'Absolute Absolute Music', 'Adam Holm i Syrien', 'Afslag på et kys']\n"
     ]
    },
    {
     "name": "stderr",
     "output_type": "stream",
     "text": [
      "\r",
      " 95%|█████████▍| 37/39 [00:16<00:00,  2.42it/s]"
     ]
    },
    {
     "name": "stdout",
     "output_type": "stream",
     "text": [
      "PAGE:38\n",
      "['2020-planen', '24 fortællinger om Händels Messias', \"24 lysende stjerner fra 10'erne\", '24 musikudtryk ifølge P2', '2GOBOG', '2% tilbage', '365 fra P8 JAZZ - Maraton', '365 på P6 BEAT', '365 på P7 MIX', '45 omdrejninger', '4. division', \"90'ernes helte: Tyggegummipoppen\", '90 i timen', 'Absolute Absolute Music', 'Adam Holm i Syrien', 'Afslag på et kys']\n"
     ]
    },
    {
     "name": "stderr",
     "output_type": "stream",
     "text": [
      "\r",
      " 97%|█████████▋| 38/39 [00:16<00:00,  2.40it/s]"
     ]
    },
    {
     "name": "stdout",
     "output_type": "stream",
     "text": [
      "PAGE:39\n",
      "['2020-planen', '24 fortællinger om Händels Messias', \"24 lysende stjerner fra 10'erne\", '24 musikudtryk ifølge P2', '2GOBOG', '2% tilbage', '365 fra P8 JAZZ - Maraton', '365 på P6 BEAT', '365 på P7 MIX', '45 omdrejninger', '4. division', \"90'ernes helte: Tyggegummipoppen\", '90 i timen', 'Absolute Absolute Music', 'Adam Holm i Syrien', 'Afslag på et kys']\n"
     ]
    },
    {
     "name": "stderr",
     "output_type": "stream",
     "text": [
      "100%|██████████| 39/39 [00:17<00:00,  2.24it/s]\n"
     ]
    }
   ],
   "source": [
    "import re\n",
    "p = re.compile(r\"\\n\\n(.+)\")\n",
    "zipcode = re.compile(r'(\\d{4}) (.+)')\n",
    "txt = \"\"\"\n",
    "\n",
    "A Henning Gamborg Møller\n",
    "Klostergade 28\n",
    "6760 Ribe\n",
    "61 69 03 76\n",
    "\n",
    "A K Møller\n",
    "Bregnerødvej 75, st. 0002\n",
    "3460 Birkerød\n",
    "75 50 75 14\n",
    "\n",
    "A Møller\n",
    "Violvej 3\n",
    "Ø. Bjerregrav\n",
    "8920 Randers NV\n",
    "86 45 44 36\n",
    "\n",
    "A Møller\n",
    "Hyrdevej 16A\n",
    "7000 Fredericia\n",
    "76 42 00 81\n",
    "\n",
    "A Møller\n",
    "Brammersgade 45\n",
    "8000 Aarhus C\n",
    "86 13 22 99\n",
    "\n",
    "A Møller\n",
    "Dalstræde 11\n",
    "Heltborg\n",
    "7760 Hurup Thy\n",
    "97 95 20 01\n",
    "\n",
    "A Møller\n",
    "Jørgensgaardvej 13\n",
    "6240 Løgumkloster\n",
    "74 74 36 62\n",
    "\n",
    "A Møller Andersen\n",
    "Gammel Holtevej 60\n",
    "Gl Holte\n",
    "2840 Holte\n",
    "45 80 47 14\n",
    "\n",
    "A Møller Jensen\n",
    "Viborgvej 115, 1. TV\n",
    "Hasle\n",
    "8210 Aarhus V\n",
    "60 94 39 04\n",
    "\n",
    "A Møller Sørensen\n",
    "Korsørgade 4, 6. tv\n",
    "2100 København Ø\n",
    "35 38 97 81\n",
    "\n",
    "A Porse Møller\n",
    "Røddikvej 60\n",
    "8464 Galten\n",
    "86 94 66 60\n",
    "\n",
    "Aage Beck Møller\n",
    "Rødding Nørregade 8\n",
    "6630 Rødding\n",
    "20 44 00 35\n",
    "\n",
    "Aage Bojsen-Møller\n",
    "Noret 3\n",
    "4780 Stege\n",
    "55 81 46 76\n",
    "\n",
    "Aage Christian Møller Andersen\n",
    "Jordemodervej 7\n",
    "Bislev\n",
    "9240 Nibe\n",
    "20 83 70 65\n",
    "\n",
    "Aage Hansen Møller\n",
    "Filippavej 38\n",
    "Hundstrup\n",
    "5762 Vester Skerninge\n",
    "62 24 10 81\n",
    "\n",
    "Aage Jan Møller\n",
    "Næsborgvej 50, st. th\n",
    "2650 Hvidovre\n",
    "20 83 88 62\n",
    "\n",
    "Aage Karl Møller\n",
    "Dyrevænget 21\n",
    "Tibirke Sand\n",
    "3300 Frederiksværk\n",
    "51 15 15 66\n",
    "\n",
    "Aage Majbom Møller\n",
    "Pilelunden 23\n",
    "5550 Langeskov\n",
    "28 59 06 93\n",
    "\n",
    "Aage Martin Møller\n",
    "Almind Østergade 15A, 1. tv\n",
    "6051 Almind\n",
    "21 48 73 79\n",
    "\n",
    "Aage Møller\n",
    "Ørritslev Gade 7\n",
    "Ørritslev\n",
    "5450 Otterup\n",
    "64 82 11 54\n",
    "\n",
    "Aage Møller\n",
    "Knudsvej 1\n",
    "8586 Ørum Djurs\n",
    "40 10 80 76\n",
    "\n",
    "Aage Møller\n",
    "Fruevej 4\n",
    "7900 Nykøbing M\n",
    "21 79 64 18\n",
    "\n",
    "Aage Møller\n",
    "Dybdevej 30\n",
    "Bolbro\n",
    "5200 Odense V\n",
    "23 66 57 00\n",
    "\n",
    "Aage Møller\n",
    "Hammelmosevej 12\n",
    "9700 Brønderslev\n",
    "60 45 79 69\n",
    "\n",
    "Aage Møller\n",
    "Birkevej 6\n",
    "8370 Hadsten\n",
    "29 68 03 25\n",
    "\"\"\"\n",
    "                  \n",
    "m = p.findall(txt)\n",
    "postal = zipcode.findall(txt)\n",
    "#print(m)\n",
    "#print(postal)\n",
    "\n",
    "#-----------------------------------------------------------------------#\n",
    "\n",
    "import requests\n",
    "import bs4\n",
    "from tqdm import tqdm\n",
    "url = requests.get(\"https://www.dr.dk/radio/programmer\")\n",
    "soup = bs4.BeautifulSoup(url.text, 'html.parser')\n",
    "\n",
    "def get_pages():\n",
    "    elem = soup.findAll(\"button\", {\"class\": \"pagination__item\"})\n",
    "\n",
    "    pages = elem[-2].getText()\n",
    "    print(pages)\n",
    "    return int(pages)\n",
    "\n",
    "def get_titles(soup):\n",
    "    title = soup.findAll(\"h3\", {\"class\": \"spot-content__title\"})\n",
    "    \n",
    "    allTitles = [text.getText() for text in title]\n",
    "    return allTitles\n",
    "    \n",
    "\n",
    "\n",
    "for page in tqdm(range(1, get_pages()+1)):\n",
    "    print(\"PAGE:{}\".format(page))\n",
    "    URL= \"https://www.dr.dk/radio/programmer?sider={}\".format(page)\n",
    "    r = requests.get(URL)\n",
    "    r.raise_for_status()\n",
    "    soup = bs4.BeautifulSoup(url.text, 'html.parser')\n",
    "    print(get_titles(soup))\n",
    "    \n",
    "#------------------------------------------------------------------------#"
   ]
  }
 ],
 "metadata": {
  "kernelspec": {
   "display_name": "Python 3",
   "language": "python",
   "name": "python3"
  },
  "language_info": {
   "codemirror_mode": {
    "name": "ipython",
    "version": 3
   },
   "file_extension": ".py",
   "mimetype": "text/x-python",
   "name": "python",
   "nbconvert_exporter": "python",
   "pygments_lexer": "ipython3",
   "version": "3.7.4"
  }
 },
 "nbformat": 4,
 "nbformat_minor": 2
}
