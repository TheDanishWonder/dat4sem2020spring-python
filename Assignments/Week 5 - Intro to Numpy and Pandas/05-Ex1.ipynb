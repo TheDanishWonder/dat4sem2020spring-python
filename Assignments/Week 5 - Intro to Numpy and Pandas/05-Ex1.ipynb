{
 "cells": [
  {
   "cell_type": "markdown",
   "metadata": {},
   "source": [
    "# Ex1 Use data from Danmarks Statistik - Databanken\n",
    "\n",
    "## With data aggregation and data visualization answer the following questions:\n",
    "1. What is the change in pct of divorced danes from 2008 to 2020?\n",
    "2. Which of the 5 biggest cities has the highest percentage of 'Never Married'?\n",
    "3. Show a bar chart of changes in marrital status in Copenhagen from 2008 till now\n",
    "4. Show a bar chart of 'Married' and 'Never Married' for all ages in DK (Hint: 2 bars of different color)"
   ]
  },
  {
   "cell_type": "code",
   "execution_count": 5,
   "metadata": {},
   "outputs": [
    {
     "name": "stdout",
     "output_type": "stream",
     "text": [
      "26.56754178146072\n"
     ]
    }
   ],
   "source": [
    "# What is the change in pct of divorced danes from 2008 to 2020?\n",
    "# divorced men in 2008\n",
    "divorced_men_2008 = 186566\n",
    "# divorced men in 2020\n",
    "divorced_men_2020 = 236132\n",
    "\n",
    "difference = divorced_men_2020 - divorced_men_2008\n",
    "dif_in_percentage = (difference/divorced_men_2008)*100\n",
    "print(dif_in_percentage)\n",
    "# 26.56% increase in divorced men"
   ]
  },
  {
   "cell_type": "code",
   "execution_count": 5,
   "metadata": {},
   "outputs": [],
   "source": [
    "import pandas as pd\n",
    "import requests"
   ]
  },
  {
   "cell_type": "code",
   "execution_count": 16,
   "metadata": {
    "scrolled": true
   },
   "outputs": [
    {
     "data": {
      "text/plain": [
       "['København', 'Aarhus', 'Odense', 'Aalborg', 'Esbjerg']"
      ]
     },
     "execution_count": 16,
     "metadata": {},
     "output_type": "execute_result"
    }
   ],
   "source": [
    "# 5B\n",
    "url = 'https://api.statbank.dk/v1/data/FOLK1A/CSV?valuePresentation=CodeAndValue&delimiter=Semicolon&Tid=2020K1&CIVILSTAND=TOT%2CU&K%C3%98N=TOT&OMR%C3%85DE=101%2C851%2C561%2C461%2C751&ALDER=IALT'\n",
    "data = pd.read_csv(url,sep=';')\n",
    "data\n",
    "not_married_pct = {data['OMRÅDE'][not_married][4:]:data['INDHOLD'][not_married]/data['INDHOLD'][all_people]*100 for not_married, all_people in zip(range(5,10),range(0,5))}\n",
    "not_married_pct\n",
    "#result = {}\n",
    "#for not_married, all_people in zip(range(5,10),range(0,5)):\n",
    "    #pct_not_married = data['INDHOLD'][not_married]/data['INDHOLD'][all_people]*100\n",
    "    #city = data['OMRÅDE'][not_married][4:]\n",
    "    #result[city] = pct_not_married\n",
    "sorted(not_married_pct,key=not_married_pct.get, reverse=True)"
   ]
  },
  {
   "cell_type": "code",
   "execution_count": 44,
   "metadata": {},
   "outputs": [
    {
     "name": "stdout",
     "output_type": "stream",
     "text": [
      "Populating the interactive namespace from numpy and matplotlib\n"
     ]
    }
   ],
   "source": [
    "%pylab inline "
   ]
  },
  {
   "cell_type": "code",
   "execution_count": 41,
   "metadata": {},
   "outputs": [],
   "source": [
    "import pandas as pd"
   ]
  },
  {
   "cell_type": "code",
   "execution_count": 58,
   "metadata": {},
   "outputs": [
    {
     "data": {
      "text/html": [
       "<div>\n",
       "<style scoped>\n",
       "    .dataframe tbody tr th:only-of-type {\n",
       "        vertical-align: middle;\n",
       "    }\n",
       "\n",
       "    .dataframe tbody tr th {\n",
       "        vertical-align: top;\n",
       "    }\n",
       "\n",
       "    .dataframe thead th {\n",
       "        text-align: right;\n",
       "    }\n",
       "</style>\n",
       "<table border=\"1\" class=\"dataframe\">\n",
       "  <thead>\n",
       "    <tr style=\"text-align: right;\">\n",
       "      <th></th>\n",
       "      <th>OMRÅDE;KØN;CIVILSTAND;TID;INDHOLD</th>\n",
       "    </tr>\n",
       "  </thead>\n",
       "  <tbody>\n",
       "    <tr>\n",
       "      <td>0</td>\n",
       "      <td>Hele landet;Mænd;Ugift;2020K1;1513419</td>\n",
       "    </tr>\n",
       "    <tr>\n",
       "      <td>1</td>\n",
       "      <td>København;Mænd;Ugift;2020K1;209722</td>\n",
       "    </tr>\n",
       "    <tr>\n",
       "      <td>2</td>\n",
       "      <td>Odense;Mænd;Ugift;2020K1;59193</td>\n",
       "    </tr>\n",
       "    <tr>\n",
       "      <td>3</td>\n",
       "      <td>Aalborg;Mænd;Ugift;2020K1;63634</td>\n",
       "    </tr>\n",
       "    <tr>\n",
       "      <td>4</td>\n",
       "      <td>Esbjerg;Mænd;Ugift;2020K1;29739</td>\n",
       "    </tr>\n",
       "  </tbody>\n",
       "</table>\n",
       "</div>"
      ],
      "text/plain": [
       "       OMRÅDE;KØN;CIVILSTAND;TID;INDHOLD\n",
       "0  Hele landet;Mænd;Ugift;2020K1;1513419\n",
       "1     København;Mænd;Ugift;2020K1;209722\n",
       "2         Odense;Mænd;Ugift;2020K1;59193\n",
       "3        Aalborg;Mænd;Ugift;2020K1;63634\n",
       "4        Esbjerg;Mænd;Ugift;2020K1;29739"
      ]
     },
     "execution_count": 58,
     "metadata": {},
     "output_type": "execute_result"
    }
   ],
   "source": [
    "df = pd.read_csv('05-Ex1.2.csv')\n",
    "df.head()"
   ]
  }
 ],
 "metadata": {
  "kernelspec": {
   "display_name": "Python 3",
   "language": "python",
   "name": "python3"
  },
  "language_info": {
   "codemirror_mode": {
    "name": "ipython",
    "version": 3
   },
   "file_extension": ".py",
   "mimetype": "text/x-python",
   "name": "python",
   "nbconvert_exporter": "python",
   "pygments_lexer": "ipython3",
   "version": "3.7.4"
  }
 },
 "nbformat": 4,
 "nbformat_minor": 2
}
