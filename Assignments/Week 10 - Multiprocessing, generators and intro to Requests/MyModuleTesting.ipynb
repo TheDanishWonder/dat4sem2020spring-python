{
 "cells": [
  {
   "cell_type": "code",
   "execution_count": 1,
   "metadata": {},
   "outputs": [],
   "source": [
    "import myModule\n",
    "\n",
    "url_list = [\n",
    "    \"https://www.gutenberg.org/files/1342/1342-0.txt\",\n",
    "    \"https://www.gutenberg.org/files/84/84-0.txt\",\n",
    "    \"https://www.gutenberg.org/files/1080/1080-0.txt\",\n",
    "    \"http://www.gutenberg.org/cache/epub/844/pg844.txt\",\n",
    "    \"https://www.gutenberg.org/files/215/215-0.txt\",\n",
    "    \"https://www.gutenberg.org/files/11/11-0.txt\",\n",
    "    \"http://www.gutenberg.org/cache/epub/1635/pg1635.txt\",\n",
    "    \"https://www.gutenberg.org/files/98/98-0.txt\",\n",
    "    \"https://www.gutenberg.org/files/1952/1952-0.txt\",\n",
    "    \"https://www.gutenberg.org/files/43/43-0.txt\"\n",
    "]\n",
    "\n",
    "download = myModule.download(url_list)"
   ]
  },
  {
   "cell_type": "code",
   "execution_count": 2,
   "metadata": {},
   "outputs": [],
   "source": [
    "#download.multi_download(url_list)"
   ]
  },
  {
   "cell_type": "code",
   "execution_count": 3,
   "metadata": {},
   "outputs": [],
   "source": [
    "#download.download(\"https://www.gutenberg.org/files/1342/1342-0.txt\", \"pride.txt\")"
   ]
  },
  {
   "cell_type": "code",
   "execution_count": 4,
   "metadata": {},
   "outputs": [],
   "source": [
    "#print(download.getUrlList())"
   ]
  },
  {
   "cell_type": "code",
   "execution_count": 5,
   "metadata": {},
   "outputs": [
    {
     "name": "stdout",
     "output_type": "stream",
     "text": [
      "in __next__ with open(84-0.txt)\n",
      "in __next__ with open(1080-0.txt)\n",
      "in __next__ with open(pg844.txt)\n",
      "in __next__ with open(215-0.txt)\n",
      "in __next__ with open(11-0.txt)\n",
      "in __next__ with open(pg1635.txt)\n",
      "in __next__ with open(98-0.txt)\n",
      "in __next__ with open(1952-0.txt)\n",
      "in __next__ with open(43-0.txt)\n"
     ]
    },
    {
     "data": {
      "text/plain": [
       "'pg844.txt'"
      ]
     },
     "execution_count": 5,
     "metadata": {},
     "output_type": "execute_result"
    }
   ],
   "source": [
    "download.hardest_read()"
   ]
  }
 ],
 "metadata": {
  "kernelspec": {
   "display_name": "Python 3",
   "language": "python",
   "name": "python3"
  },
  "language_info": {
   "codemirror_mode": {
    "name": "ipython",
    "version": 3
   },
   "file_extension": ".py",
   "mimetype": "text/x-python",
   "name": "python",
   "nbconvert_exporter": "python",
   "pygments_lexer": "ipython3",
   "version": "3.7.4"
  }
 },
 "nbformat": 4,
 "nbformat_minor": 2
}
