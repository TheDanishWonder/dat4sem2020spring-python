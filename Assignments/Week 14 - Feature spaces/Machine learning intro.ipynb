{
 "cells": [
  {
   "cell_type": "code",
   "execution_count": 25,
   "metadata": {},
   "outputs": [
    {
     "name": "stdout",
     "output_type": "stream",
     "text": [
      "wood occurs [[37]] times in the text\n"
     ]
    }
   ],
   "source": [
    "vectorizer = CountVectorizer()\n",
    "moby_dick = open(r'C:\\Users\\ndupo\\Documents\\4. Semester\\Python\\4sem2020spring-python\\Assignments\\Week 14\\moby_dick.txt','rt', encoding='utf-8')\n",
    "fit = vectorizer.fit_transform(moby_dick)\n",
    "res = fit.todense()\n",
    "document_idx = vectorizer.vocabulary_['wood']\n",
    "document_count = sum(res[:,document_idx])\n",
    "print('wood occurs {} times in the text'.format(document_count))"
   ]
  }
 ],
 "metadata": {
  "kernelspec": {
   "display_name": "Python 3",
   "language": "python",
   "name": "python3"
  },
  "language_info": {
   "codemirror_mode": {
    "name": "ipython",
    "version": 3
   },
   "file_extension": ".py",
   "mimetype": "text/x-python",
   "name": "python",
   "nbconvert_exporter": "python",
   "pygments_lexer": "ipython3",
   "version": "3.7.4"
  }
 },
 "nbformat": 4,
 "nbformat_minor": 2
}
